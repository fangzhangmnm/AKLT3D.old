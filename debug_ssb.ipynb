{
 "cells": [
  {
   "cell_type": "code",
   "execution_count": 1,
   "metadata": {},
   "outputs": [],
   "source": [
    "from opt_einsum import contract # idk why but its required to avoid bug in contract with numpy arrays\n",
    "import torch\n",
    "import numpy as np\n",
    "from tqdm.auto import tqdm\n",
    "torch.set_default_tensor_type(torch.cuda.DoubleTensor)\n",
    "device=torch.device('cuda:0')\n",
    "torch.cuda.set_device(device)\n"
   ]
  },
  {
   "cell_type": "code",
   "execution_count": 2,
   "metadata": {},
   "outputs": [],
   "source": [
    "from TNModels import AKLT3D\n",
    "# import importlib;import HOTRG;importlib.reload(HOTRG)\n",
    "from HOTRG import HOTRG_layers,forward_observalbe_tensor_moments,trace_tensor,trace_two_tensors,forward_observable_tensor"
   ]
  },
  {
   "cell_type": "code",
   "execution_count": 5,
   "metadata": {},
   "outputs": [
    {
     "name": "stdout",
     "output_type": "stream",
     "text": [
      "1.1627005383792515\n",
      "Generating HOTRG layers\n"
     ]
    },
    {
     "data": {
      "application/vnd.jupyter.widget-view+json": {
       "model_id": "3d4b3c602bff4af3a278f81d53dfe741",
       "version_major": 2,
       "version_minor": 0
      },
      "text/plain": [
       "  0%|          | 0/15 [00:00<?, ?it/s]"
      ]
     },
     "metadata": {},
     "output_type": "display_data"
    },
    {
     "name": "stdout",
     "output_type": "stream",
     "text": [
      "HOTRG layers generated\n",
      "[1.1757127162748148e-31, 0.013637626092916095, 1200.4883229832249, 8.182627603754408, 0.002711279605787548, 0.0018796731134640469, 0.002190360770507185, 0.0024802105339906356, 0.005352490447167672, 0.010953151607855427, 0.014365559574548704, 0.015065936302095337, 0.015326329495034317, 0.015445843447888468, 0.015522879016052565, 0.015588111213532135]\n"
     ]
    },
    {
     "data": {
      "application/vnd.jupyter.widget-view+json": {
       "model_id": "ec3f069287254a128581b8169774261b",
       "version_major": 2,
       "version_minor": 0
      },
      "text/plain": [
       "0it [00:00, ?it/s]"
      ]
     },
     "metadata": {},
     "output_type": "display_data"
    },
    {
     "data": {
      "application/vnd.jupyter.widget-view+json": {
       "model_id": "ce47911b90a446b8b1ef90af42cd6230",
       "version_major": 2,
       "version_minor": 0
      },
      "text/plain": [
       "  0%|          | 0/15 [00:00<?, ?it/s]"
      ]
     },
     "metadata": {},
     "output_type": "display_data"
    },
    {
     "name": "stdout",
     "output_type": "stream",
     "text": [
      "[0.0, -2.7816750906607384, -1.8323450388345313, 1.4030229123179847, 1.058915832696755, 0.9454726018746118, 0.9108797878334939, 1.1545698191340557, 1.2887791442328502, 1.305081520473548, 1.3078686989178105, 1.3082236243830312, 1.3082796389404567, 1.3082976177245276, 1.3083023579608049, 1.3083035788290183]\n"
     ]
    },
    {
     "data": {
      "application/vnd.jupyter.widget-view+json": {
       "model_id": "8ccd7a50dd7e4387b80b0166586015f5",
       "version_major": 2,
       "version_minor": 0
      },
      "text/plain": [
       "0it [00:00, ?it/s]"
      ]
     },
     "metadata": {},
     "output_type": "display_data"
    },
    {
     "data": {
      "application/vnd.jupyter.widget-view+json": {
       "model_id": "8970d953ff6142238b5a386dfbed9716",
       "version_major": 2,
       "version_minor": 0
      },
      "text/plain": [
       "  0%|          | 0/15 [00:00<?, ?it/s]"
      ]
     },
     "metadata": {},
     "output_type": "display_data"
    },
    {
     "name": "stdout",
     "output_type": "stream",
     "text": [
      "[-61.70550317655643, -0.3253717623568152, 3.4665263019277553e-09, -4.902551422269523e-07, 1.1281341079606244e-13, 5.662639267019688e-10, -1.1587411948523574e-12, -1.2208029732042913e-13, 2.3381554862465287e-11, 1.8942629893560502e-14, 2.966150020427627e-14, 1.4071376827784982e-12, 2.3453290197622624e-14, 2.4017364139532805e-14, 6.712658772171603e-14, 2.3702582519559735e-14]\n"
     ]
    },
    {
     "data": {
      "application/vnd.jupyter.widget-view+json": {
       "model_id": "4e06251b93ae46b89c28f8fc5ca87e1a",
       "version_major": 2,
       "version_minor": 0
      },
      "text/plain": [
       "0it [00:00, ?it/s]"
      ]
     },
     "metadata": {},
     "output_type": "display_data"
    },
    {
     "data": {
      "application/vnd.jupyter.widget-view+json": {
       "model_id": "3b437d4d1818400fa9714c08e8cda9d7",
       "version_major": 2,
       "version_minor": 0
      },
      "text/plain": [
       "  0%|          | 0/15 [00:00<?, ?it/s]"
      ]
     },
     "metadata": {},
     "output_type": "display_data"
    },
    {
     "name": "stdout",
     "output_type": "stream",
     "text": [
      "[61.70550317655641, 0.3367683382676732, -1.9295984096051186e-07, 1.1102885455659335e-06, 6.472273873823648e-12, -2.520497619113499e-10, 1.3102762063718267e-11, 1.2199916015272637e-11, 7.839857842499654e-12, 1.1265432820234837e-11, 1.1221975722536852e-11, 1.1219732653626386e-11, 1.1220955674529978e-11, 1.1219225918629282e-11, 1.1219193944654427e-11, 1.1219236404116141e-11]\n"
     ]
    }
   ],
   "source": [
    "params=AKLT3D.get_default_params()\n",
    "params['a1']+=.008\n",
    "print(params['a1'])\n",
    "T0=AKLT3D(params).get_T0()\n",
    "layers,Ts,logTotals=HOTRG_layers(T0,max_dim=10,nLayers=15,options={'mcf_enabled':True,'gilt_enabled':False,'mcf_fix_unitary_enabled':True})\n",
    "_=[trace_two_tensors(T).item() for T in Ts]\n",
    "print(_)\n",
    "\n",
    "\n",
    "Y0,checkerboard=AKLT3D(params).get_observable('magnetizationZ')\n",
    "_,T_ops,_=forward_observable_tensor(T0,Y0,layers,checkerboard=checkerboard,return_layers=True,cached_Ts=Ts)\n",
    "_=[(trace_two_tensors(T_op).item(),trace_two_tensors(T).item()) for T_op,T in zip(T_ops,Ts)]\n",
    "print([(_[0]/_[1] if _[1]!=0 else 0) for _ in _])\n",
    "\n",
    "\n",
    "Y0,checkerboard=AKLT3D(params).get_observable('magnetizationX')\n",
    "_,T_ops,_=forward_observable_tensor(T0,Y0,layers,checkerboard=checkerboard,return_layers=True,cached_Ts=Ts)\n",
    "_=[(trace_two_tensors(T_op).item(),trace_two_tensors(T).item()) for T_op,T in zip(T_ops,Ts)]\n",
    "print([(_[0]/_[1] if _[1]!=0 else 0) for _ in _])\n",
    "\n",
    "Y0,checkerboard=AKLT3D(params).get_observable('magnetizationY')\n",
    "_,T_ops,_=forward_observable_tensor(T0,Y0,layers,checkerboard=checkerboard,return_layers=True,cached_Ts=Ts)\n",
    "_=[(trace_two_tensors(T_op).item(),trace_two_tensors(T).item()) for T_op,T in zip(T_ops,Ts)]\n",
    "print([(_[0]/_[1] if _[1]!=0 else 0) for _ in _])"
   ]
  },
  {
   "cell_type": "code",
   "execution_count": null,
   "metadata": {},
   "outputs": [],
   "source": [
    "\n",
    "\n",
    "params=AKLT3D.get_default_params()\n",
    "params['a1']+=.008\n",
    "print(params['a1'])\n",
    "T0=AKLT3D(params).get_T0()\n",
    "layers,Ts,logTotals=HOTRG_layers(T0,max_dim=10,nLayers=15,options={'mcf_enabled':True,'gilt_enabled':False,'mcf_fix_unitary_enabled':True})\n",
    "_=[trace_two_tensors(T).item() for T in Ts]\n",
    "print(_)\n",
    "\n",
    "Y0,checkerboard=AKLT3D(params).get_observable('magnetizationZ')\n",
    "T_op_momentss,logTotals=forward_observalbe_tensor_moments([T0,Y0],layers,checkerboard=checkerboard,return_layers=True,cached_Ts=Ts)\n",
    "_=[(trace_two_tensors(Y).item(),trace_two_tensors(T).item()) for T,Y in T_op_momentss[:]]\n",
    "print([(_[0]/_[1] if _[1]!=0 else 0) for _ in _])\n",
    "\n",
    "Y0,checkerboard=AKLT3D(params).get_observable('magnetizationX')\n",
    "T_op_momentss,logTotals=forward_observalbe_tensor_moments([T0,Y0],layers,checkerboard=checkerboard,return_layers=True,cached_Ts=Ts)\n",
    "_=[(trace_two_tensors(Y).item(),trace_two_tensors(T).item()) for T,Y in T_op_momentss[:]]\n",
    "print([(_[0]/_[1] if _[1]!=0 else 0) for _ in _])\n",
    "\n",
    "Y0,checkerboard=AKLT3D(params).get_observable('magnetizationY')\n",
    "T_op_momentss,logTotals=forward_observalbe_tensor_moments([T0,Y0],layers,checkerboard=checkerboard,return_layers=True,cached_Ts=Ts)\n",
    "_=[(trace_two_tensors(Y).item(),trace_two_tensors(T).item()) for T,Y in T_op_momentss[:]]\n",
    "print([(_[0]/_[1] if _[1]!=0 else 0) for _ in _])"
   ]
  },
  {
   "cell_type": "code",
   "execution_count": 3,
   "metadata": {},
   "outputs": [],
   "source": [
    "import importlib;import transfer_matrix;importlib.reload(transfer_matrix)\n",
    "from transfer_matrix import get_scdims,get_transfer_matrix_operator\n",
    "# "
   ]
  },
  {
   "cell_type": "code",
   "execution_count": null,
   "metadata": {},
   "outputs": [],
   "source": [
    "from TNModels import AKLT3D\n",
    "import importlib;import HOTRG;importlib.reload(HOTRG)\n",
    "from HOTRG import HOTRG_layers,forward_observalbe_tensor_moments,trace_tensor,trace_two_tensors\n",
    "\n",
    "params=AKLT3D.get_default_params()\n",
    "params['a1']+=.008\n",
    "params['a1']\n",
    "T0=AKLT3D(params).get_T0()\n",
    "layers,Ts,logTotals=HOTRG_layers(T0,max_dim=10,nLayers=15,options={'mcf_enabled':False,'gilt_enabled':False,'mcf_fix_unitary_enabled':False})\n",
    "Y0,checkerboard=AKLT3D(params).get_observable('magnetizationZ')\n",
    "T_op_momentss,logTotals=forward_observalbe_tensor_moments([T0,Y0],layers,checkerboard=checkerboard,return_layers=True,cached_Ts=Ts)\n",
    "_=[(trace_two_tensors(Y).item(),trace_two_tensors(T).item()) for T,Y in T_op_momentss[:]]\n",
    "[((_[0]/_[1] if _[1]!=0 else 0),_[1]) for _ in _]"
   ]
  },
  {
   "cell_type": "code",
   "execution_count": 4,
   "metadata": {},
   "outputs": [
    {
     "data": {
      "application/vnd.jupyter.widget-view+json": {
       "model_id": "f2b8fd525cbf4b5c92a357b2c0894eaf",
       "version_major": 2,
       "version_minor": 0
      },
      "text/plain": [
       "0it [00:00, ?it/s]"
      ]
     },
     "metadata": {},
     "output_type": "display_data"
    },
    {
     "data": {
      "application/vnd.jupyter.widget-view+json": {
       "model_id": "4fffadf1a95b4ed0a5072f26ae297a48",
       "version_major": 2,
       "version_minor": 0
      },
      "text/plain": [
       "0it [00:00, ?it/s]"
      ]
     },
     "metadata": {},
     "output_type": "display_data"
    },
    {
     "data": {
      "application/vnd.jupyter.widget-view+json": {
       "model_id": "51c060796c5647f0bc3b3927e048d770",
       "version_major": 2,
       "version_minor": 0
      },
      "text/plain": [
       "0it [00:00, ?it/s]"
      ]
     },
     "metadata": {},
     "output_type": "display_data"
    },
    {
     "data": {
      "application/vnd.jupyter.widget-view+json": {
       "model_id": "b756d082888d461b88b843fff513eac6",
       "version_major": 2,
       "version_minor": 0
      },
      "text/plain": [
       "0it [00:00, ?it/s]"
      ]
     },
     "metadata": {},
     "output_type": "display_data"
    },
    {
     "data": {
      "application/vnd.jupyter.widget-view+json": {
       "model_id": "ee39471eb88144c3a75c7afc38be1ef3",
       "version_major": 2,
       "version_minor": 0
      },
      "text/plain": [
       "0it [00:00, ?it/s]"
      ]
     },
     "metadata": {},
     "output_type": "display_data"
    },
    {
     "data": {
      "application/vnd.jupyter.widget-view+json": {
       "model_id": "3df45c26c5bd47ddba517558d7a763a1",
       "version_major": 2,
       "version_minor": 0
      },
      "text/plain": [
       "0it [00:00, ?it/s]"
      ]
     },
     "metadata": {},
     "output_type": "display_data"
    },
    {
     "data": {
      "text/plain": [
       "[tensor([0.0000, 0.1497]),\n",
       " tensor([0.0000, 0.1050, 0.1050, 0.1331, 0.2980]),\n",
       " tensor([0.0000, 0.0371, 0.0371, 0.0632, 0.1074]),\n",
       " tensor([0.0000, 0.0027, 0.0165, 0.0165, 0.0181]),\n",
       " tensor([0.0000, 0.0116, 0.0136, 0.0136, 0.0136]),\n",
       " tensor([0.0000, 0.0024, 0.0024, 0.0025, 0.0025])]"
      ]
     },
     "execution_count": 4,
     "metadata": {},
     "output_type": "execute_result"
    }
   ],
   "source": [
    "scdimss=[get_scdims(T,n=(1,1),k=5)[0] for T in Ts[::3]]\n",
    "scdimss"
   ]
  },
  {
   "cell_type": "code",
   "execution_count": 45,
   "metadata": {},
   "outputs": [
    {
     "data": {
      "text/plain": [
       "tensor([0.0000, 0.1497])"
      ]
     },
     "execution_count": 45,
     "metadata": {},
     "output_type": "execute_result"
    }
   ],
   "source": []
  },
  {
   "cell_type": "code",
   "execution_count": null,
   "metadata": {},
   "outputs": [],
   "source": []
  }
 ],
 "metadata": {
  "kernelspec": {
   "display_name": "tf-gpu",
   "language": "python",
   "name": "python3"
  },
  "language_info": {
   "codemirror_mode": {
    "name": "ipython",
    "version": 3
   },
   "file_extension": ".py",
   "mimetype": "text/x-python",
   "name": "python",
   "nbconvert_exporter": "python",
   "pygments_lexer": "ipython3",
   "version": "3.9.15"
  },
  "orig_nbformat": 4
 },
 "nbformat": 4,
 "nbformat_minor": 2
}
